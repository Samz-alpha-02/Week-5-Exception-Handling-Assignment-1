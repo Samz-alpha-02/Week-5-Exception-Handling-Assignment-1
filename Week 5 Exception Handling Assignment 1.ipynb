{
 "cells": [
  {
   "cell_type": "code",
   "execution_count": null,
   "id": "926f6b57-341d-4935-adc0-5b87011a6ee0",
   "metadata": {},
   "outputs": [],
   "source": [
    "#Q1\n",
    "An exception in Python is an event that occurs during the execution of a program, disrupting the normal flow of \n",
    "instructions. When an exception is encountered, the program's execution is halted, and the control is transferred \n",
    "to a suitable exception handler.\n",
    "\n",
    "Differences between exceptions and syntax errors:\n",
    "\n",
    "1. Cause: Exceptions are typically caused by errors in the program logic or unexpected conditions during runtime, \n",
    "          while syntax errors are caused by violating the rules of the Python language's syntax.\n",
    "\n",
    "2. Detection: Syntax errors are detected by the Python interpreter during the parsing phase before the program is \n",
    "              executed. In contrast, exceptions are detected during program execution when a specific condition \n",
    "              or situation occurs.\n",
    "\n",
    "3. Handling: Syntax errors need to be fixed by correcting the syntax in the code before the program can be executed \n",
    "             successfully. On the other hand, exceptions can be caught and handled using exception handling mechanisms\n",
    "             such as try-except blocks, allowing the program to gracefully handle errors and continue execution.\n",
    "\n",
    "4. Types: Syntax errors are specific to the language syntax rules and can include errors like missing colons, \n",
    "          mismatched parentheses, or invalid variable names. Exceptions, on the other hand, come in various types and \n",
    "          can include errors like division by zero (ZeroDivisionError), accessing an index beyond the bounds of a list \n",
    "          (IndexError), or trying to open a file that does not exist (FileNotFoundError).\n",
    "\n",
    "5. Control flow: Syntax errors prevent the program from running at all until they are fixed, as the interpreter cannot \n",
    "                 parse the code correctly. Exceptions, however, allow for more flexible control flow. When an exception \n",
    "                 occurs, the program flow is disrupted, and the control can be transferred to exception handlers, allowing\n",
    "                 for error recovery or displaying appropriate error messages.\n",
    "            \n",
    "In summary, exceptions are runtime errors that occur when a program is executed, while syntax errors are detected by the \n",
    "interpreter during the parsing phase. Exceptions can be caught and handled, providing a mechanism for error recovery, \n",
    "while syntax errors need to be fixed before the program can be executed successfully."
   ]
  },
  {
   "cell_type": "code",
   "execution_count": null,
   "id": "45c3dbb0-0c0b-4b42-8f09-086cbd5964c6",
   "metadata": {},
   "outputs": [],
   "source": []
  },
  {
   "cell_type": "code",
   "execution_count": null,
   "id": "6b75bb5c-c11a-4e8b-b025-4d32fdb6c2d5",
   "metadata": {},
   "outputs": [],
   "source": [
    "#Q2\n",
    "When an exception is not handled in Python, it results in the termination of the program and an error message is displayed, \n",
    "providing information about the unhandled exception that occurred."
   ]
  },
  {
   "cell_type": "code",
   "execution_count": 1,
   "id": "ec07e61d-1171-481b-a185-f772d48c6014",
   "metadata": {},
   "outputs": [
    {
     "ename": "ZeroDivisionError",
     "evalue": "division by zero",
     "output_type": "error",
     "traceback": [
      "\u001b[0;31m---------------------------------------------------------------------------\u001b[0m",
      "\u001b[0;31mZeroDivisionError\u001b[0m                         Traceback (most recent call last)",
      "Cell \u001b[0;32mIn[1], line 5\u001b[0m\n\u001b[1;32m      2\u001b[0m     \u001b[38;5;28;01mreturn\u001b[39;00m a \u001b[38;5;241m/\u001b[39m b\n\u001b[1;32m      4\u001b[0m \u001b[38;5;66;03m# Calling the divide function with invalid arguments\u001b[39;00m\n\u001b[0;32m----> 5\u001b[0m result \u001b[38;5;241m=\u001b[39m \u001b[43mdivide\u001b[49m\u001b[43m(\u001b[49m\u001b[38;5;241;43m10\u001b[39;49m\u001b[43m,\u001b[49m\u001b[43m \u001b[49m\u001b[38;5;241;43m0\u001b[39;49m\u001b[43m)\u001b[49m\n\u001b[1;32m      6\u001b[0m \u001b[38;5;28mprint\u001b[39m(result)\n",
      "Cell \u001b[0;32mIn[1], line 2\u001b[0m, in \u001b[0;36mdivide\u001b[0;34m(a, b)\u001b[0m\n\u001b[1;32m      1\u001b[0m \u001b[38;5;28;01mdef\u001b[39;00m \u001b[38;5;21mdivide\u001b[39m(a, b):\n\u001b[0;32m----> 2\u001b[0m     \u001b[38;5;28;01mreturn\u001b[39;00m \u001b[43ma\u001b[49m\u001b[43m \u001b[49m\u001b[38;5;241;43m/\u001b[39;49m\u001b[43m \u001b[49m\u001b[43mb\u001b[49m\n",
      "\u001b[0;31mZeroDivisionError\u001b[0m: division by zero"
     ]
    }
   ],
   "source": [
    "def divide(a, b):\n",
    "    return a / b\n",
    "\n",
    "# Calling the divide function with invalid arguments\n",
    "result = divide(10, 0)\n",
    "print(result)\n"
   ]
  },
  {
   "cell_type": "code",
   "execution_count": null,
   "id": "3acdbef1-06d0-475c-90e2-1d47e0540abf",
   "metadata": {},
   "outputs": [],
   "source": [
    "Since we have not provided any exception handling for this scenario,the program execution is halted,\n",
    "and an error message is displayed.When an exception is not handled, it interrupts the normal execution \n",
    "of the program and provides valuable information about the cause of the error. It's important to handle \n",
    "exceptions appropriately to gracefully handle errors, provide useful feedback to users, and prevent program crashes."
   ]
  },
  {
   "cell_type": "code",
   "execution_count": null,
   "id": "5a99accf-766b-4aeb-bb85-4f489efeb415",
   "metadata": {},
   "outputs": [],
   "source": []
  },
  {
   "cell_type": "code",
   "execution_count": null,
   "id": "beecf3e1-d2be-4435-bbd5-6230eb03fb2f",
   "metadata": {},
   "outputs": [],
   "source": [
    "#Q3\n",
    "Python provides two main statements for exception handling: try-except and finally.\n",
    "\n",
    "The try-except statement is used to catch and handle exceptions. It allows you to specify a block of code \n",
    "where you anticipate the occurrence of an exception. If an exception occurs within the try block, it is caught\n",
    "by the corresponding except block, allowing you to handle the exception gracefully."
   ]
  },
  {
   "cell_type": "code",
   "execution_count": 2,
   "id": "73f8a682-2980-41b0-bd3d-2192526b70ee",
   "metadata": {},
   "outputs": [
    {
     "name": "stdout",
     "output_type": "stream",
     "text": [
      "Error: Division by zero is not allowed!\n"
     ]
    }
   ],
   "source": [
    "#Here's an example demonstrating the usage of try-except:\n",
    "def divide(a, b):\n",
    "    try:\n",
    "        result = a / b\n",
    "        print(\"Division result:\", result)\n",
    "    except ZeroDivisionError:\n",
    "        print(\"Error: Division by zero is not allowed!\")\n",
    "\n",
    "# Calling the divide function with invalid arguments\n",
    "divide(10, 0)\n"
   ]
  },
  {
   "cell_type": "code",
   "execution_count": null,
   "id": "2ccf6d4d-3cd7-4a89-844f-b5f66b21536e",
   "metadata": {},
   "outputs": [],
   "source": [
    "In this example, the try block contains the code that may potentially raise an exception, which is the division \n",
    "operation a / b. If a ZeroDivisionError occurs during the division (i.e., when the second argument is 0), the \n",
    "code within the except block is executed. In this case, it prints an error message stating that division by \n",
    "zero is not allowed."
   ]
  },
  {
   "cell_type": "code",
   "execution_count": null,
   "id": "37361ff1-5208-41d3-8558-bda1961f01d3",
   "metadata": {},
   "outputs": [],
   "source": [
    "The finally statement is used to specify a block of code that will be executed regardless of whether an exception \n",
    "occurred or not. It is commonly used for tasks that require cleanup, such as closing files or releasing resources, \n",
    "to ensure they are always executed, even in the presence of exceptions."
   ]
  },
  {
   "cell_type": "code",
   "execution_count": 3,
   "id": "9fd73f7f-923d-483c-9e42-186e6ab7235d",
   "metadata": {},
   "outputs": [
    {
     "name": "stdout",
     "output_type": "stream",
     "text": [
      "Division result: 5.0\n",
      "Cleanup: Division operation completed.\n"
     ]
    }
   ],
   "source": [
    "#Here's an example demonstrating the usage of try-except-finally:\n",
    "def divide(a, b):\n",
    "    try:\n",
    "        result = a / b\n",
    "        print(\"Division result:\", result)\n",
    "    except ZeroDivisionError:\n",
    "        print(\"Error: Division by zero is not allowed!\")\n",
    "    finally:\n",
    "        print(\"Cleanup: Division operation completed.\")\n",
    "\n",
    "# Calling the divide function with valid arguments\n",
    "divide(10, 2)\n"
   ]
  },
  {
   "cell_type": "code",
   "execution_count": null,
   "id": "7f57f9b2-3f7b-4256-8927-024e35f9970c",
   "metadata": {},
   "outputs": [],
   "source": [
    "In this example, the finally block is included after the except block. It will always be executed, regardless of \n",
    "whether an exception occurred or not. In this case, it prints a cleanup message indicating that the division \n",
    "operation is completed.\n",
    "\n",
    "By using the try-except and finally statements, you can catch and handle exceptions, as well as ensure that \n",
    "necessary cleanup operations are performed, resulting in more robust and controlled exception handling in Python \n",
    "programs."
   ]
  },
  {
   "cell_type": "code",
   "execution_count": null,
   "id": "94c67811-481e-473d-8382-b0a07d332f09",
   "metadata": {},
   "outputs": [],
   "source": []
  },
  {
   "cell_type": "code",
   "execution_count": 4,
   "id": "56b2e0ac-b08e-4795-b564-af709fa66e6e",
   "metadata": {},
   "outputs": [
    {
     "name": "stdout",
     "output_type": "stream",
     "text": [
      "Division result: 5.0\n",
      "Error: Division by zero is not allowed!\n"
     ]
    }
   ],
   "source": [
    "#Q4(a)\n",
    "def divide(a, b):\n",
    "    try:\n",
    "        result = a / b\n",
    "    except ZeroDivisionError:\n",
    "        print(\"Error: Division by zero is not allowed!\")\n",
    "    else:\n",
    "        print(\"Division result:\", result)\n",
    "\n",
    "# Calling the divide function with different arguments\n",
    "divide(10, 2)\n",
    "divide(10, 0)\n"
   ]
  },
  {
   "cell_type": "code",
   "execution_count": null,
   "id": "4d45ae89-b3fc-40c7-9414-d785ee3e874d",
   "metadata": {},
   "outputs": [],
   "source": [
    "In this example, the try block contains the division operation a / b. If a ZeroDivisionError occurs, the code \n",
    "within the except block is executed, which prints an error message.\n",
    "\n",
    "However, if no exception occurs within the try block, the code within the else block is executed. In this case, \n",
    "it prints the division result.\n",
    "\n",
    "By using the try-except-else combination, you can catch and handle exceptions in the except block, while executing \n",
    "specific code for successful operations in the else block. This can help you handle exceptions gracefully while \n",
    "maintaining a clear and concise code flow."
   ]
  },
  {
   "cell_type": "code",
   "execution_count": null,
   "id": "8ef62af7-e881-4d76-81ad-c6e4786cacdd",
   "metadata": {},
   "outputs": [],
   "source": []
  },
  {
   "cell_type": "code",
   "execution_count": 5,
   "id": "31f698ac-7149-4c68-b387-14d05ad3099a",
   "metadata": {},
   "outputs": [
    {
     "name": "stdout",
     "output_type": "stream",
     "text": [
      "Division result: 5.0\n",
      "Cleanup: Division operation completed.\n",
      "Error: Division by zero is not allowed!\n",
      "Cleanup: Division operation completed.\n"
     ]
    }
   ],
   "source": [
    "#Q4(b)\n",
    "def divide(a, b):\n",
    "    try:\n",
    "        result = a / b\n",
    "        print(\"Division result:\", result)\n",
    "    except ZeroDivisionError:\n",
    "        print(\"Error: Division by zero is not allowed!\")\n",
    "    finally:\n",
    "        print(\"Cleanup: Division operation completed.\")\n",
    "\n",
    "# Calling the divide function with different arguments\n",
    "divide(10, 2)\n",
    "divide(10, 0)\n"
   ]
  },
  {
   "cell_type": "code",
   "execution_count": null,
   "id": "3f121226-792c-4b13-a7e4-6d47a39f18ed",
   "metadata": {},
   "outputs": [],
   "source": [
    "In this example, the try block contains the division operation a / b. If a ZeroDivisionError occurs, the code \n",
    "within the except block is executed, which prints an error message.\n",
    "\n",
    "Regardless of whether an exception occurs or not, the code within the finally block is always executed. It is\n",
    "commonly used for performing cleanup tasks or releasing resources, ensuring that they are executed regardless \n",
    "of exceptions."
   ]
  },
  {
   "cell_type": "code",
   "execution_count": null,
   "id": "873de05a-1e0a-4e29-91cc-1b7bece1756b",
   "metadata": {},
   "outputs": [],
   "source": []
  },
  {
   "cell_type": "code",
   "execution_count": 6,
   "id": "26e4c62b-cdeb-4678-a0ec-604536ccd42d",
   "metadata": {},
   "outputs": [
    {
     "name": "stdout",
     "output_type": "stream",
     "text": [
      "Age is valid.\n"
     ]
    }
   ],
   "source": [
    "#Q4(c)\n",
    "def validate_age(age):\n",
    "    if age < 0:\n",
    "        raise ValueError(\"Age cannot be negative.\")\n",
    "    elif age < 18:\n",
    "        raise ValueError(\"You must be at least 18 years old.\")\n",
    "\n",
    "# Calling the validate_age function with different ages\n",
    "try:\n",
    "    validate_age(25)\n",
    "    print(\"Age is valid.\")\n",
    "except ValueError as e:\n",
    "    print(\"Invalid age:\", str(e))\n"
   ]
  },
  {
   "cell_type": "code",
   "execution_count": null,
   "id": "9aa65f5b-8b3e-4248-81b9-5c12a70e5a79",
   "metadata": {},
   "outputs": [],
   "source": [
    "In this example, the validate_age function takes an age parameter and performs some age validation checks.\n",
    "If the age is negative, it raises a ValueError with a corresponding error message. Similarly, if the age is less\n",
    "than 18, it raises a ValueError with another error message.\n",
    "\n",
    "In the try block, we call the validate_age function with an age of 25, which is a valid age. Therefore, no \n",
    "exception is raised, and the code continues execution. It prints the message \"Age is valid.\"\n",
    "\n",
    "However, if we call the validate_age function with an age of -5, which is a negative age, a ValueError is raised \n",
    "with the error message \"Age cannot be negative.\" This triggers the execution of the corresponding except block."
   ]
  },
  {
   "cell_type": "code",
   "execution_count": null,
   "id": "15bd2122-8f6b-400d-9719-6e633ccce2df",
   "metadata": {},
   "outputs": [],
   "source": []
  },
  {
   "cell_type": "code",
   "execution_count": null,
   "id": "13fe3d83-46ca-411d-a78e-9bffb01b9725",
   "metadata": {},
   "outputs": [],
   "source": [
    "#Q5\n",
    "Custom exceptions in Python are user-defined exception classes that inherit from the built-in Exception \n",
    "class or its subclasses. They allow you to define and raise specific exceptions that are relevant to your\n",
    "application or domain.\n",
    "\n",
    "There are several reasons why we may need custom exceptions:\n",
    "\n",
    "1. Specific Error Handling: Custom exceptions provide a way to differentiate and handle specific errors or\n",
    "                            exceptional conditions that are unique to your application. By defining custom \n",
    "                            exception classes, you can raise and catch these exceptions to handle them appropriately.\n",
    "\n",
    "2. Code Readability: Custom exceptions make your code more readable and self-explanatory. By using descriptive \n",
    "                     exception names and hierarchies, you can convey the intent and nature of the error more\n",
    "                     effectively, making it easier for developers to understand and maintain the code.\n",
    "\n",
    "3. Modularity and Reusability: Custom exceptions allow you to encapsulate specific error cases into reusable \n",
    "                               components. By defining custom exception classes, you can reuse them across multiple \n",
    "                               parts of your codebase or even across different projects, promoting modularity and \n",
    "                               code reuse."
   ]
  },
  {
   "cell_type": "code",
   "execution_count": 7,
   "id": "d116ad25-0e47-40ec-b051-dc6fe9f5c1d5",
   "metadata": {},
   "outputs": [
    {
     "name": "stdout",
     "output_type": "stream",
     "text": [
      "Invalid input: Invalid input. Expected string.\n"
     ]
    }
   ],
   "source": [
    "class InvalidInputError(Exception):\n",
    "    pass\n",
    "\n",
    "def process_data(data):\n",
    "    if not isinstance(data, str):\n",
    "        raise InvalidInputError(\"Invalid input. Expected string.\")\n",
    "    # Rest of the data processing logic\n",
    "\n",
    "# Calling the process_data function with different inputs\n",
    "try:\n",
    "    process_data(\"Hello\")\n",
    "    process_data(123)\n",
    "except InvalidInputError as e:\n",
    "    print(\"Invalid input:\", str(e))\n"
   ]
  },
  {
   "cell_type": "code",
   "execution_count": null,
   "id": "7f111f8d-17c7-45ba-830d-b41af620899d",
   "metadata": {},
   "outputs": [],
   "source": [
    "In this example, we define a custom exception class called InvalidInputError that inherits from the base Exception \n",
    "class. The process_data function takes some data and expects it to be a string. If the input is not a string, we \n",
    "raise an InvalidInputError exception with a specific error message.\n",
    "\n",
    "In the try block, we call the process_data function with the inputs \"Hello\" and 123. The first call passes a valid \n",
    "string, so no exception is raised. However, the second call passes an integer, which is an invalid input. This triggers\n",
    "the InvalidInputError exception, and the corresponding except block is executed.\n",
    "\n",
    "By using custom exceptions, you can define and handle errors that are meaningful and relevant to your application. \n",
    "They enhance the clarity and maintainability of your code, improve error handling, and allow for better modularization \n",
    "and reuse of error handling components."
   ]
  },
  {
   "cell_type": "code",
   "execution_count": null,
   "id": "10c9e3c9-8521-4fc1-b405-2b9985f0252a",
   "metadata": {},
   "outputs": [],
   "source": []
  },
  {
   "cell_type": "code",
   "execution_count": 8,
   "id": "d6b7f3e7-2511-4a9c-9107-e3cba2b1bd82",
   "metadata": {},
   "outputs": [
    {
     "name": "stdout",
     "output_type": "stream",
     "text": [
      "Error reading file: nonexistent.txt\n"
     ]
    }
   ],
   "source": [
    "#Q6\n",
    "class FileReadError(Exception):\n",
    "    def __init__(self, filename):\n",
    "        self.filename = filename\n",
    "    \n",
    "    def __str__(self):\n",
    "        return f\"Error reading file: {self.filename}\"\n",
    "\n",
    "def read_file(filename):\n",
    "    try:\n",
    "        with open(filename, 'r') as file:\n",
    "            content = file.read()\n",
    "            return content\n",
    "    except IOError:\n",
    "        raise FileReadError(filename)\n",
    "\n",
    "# Calling the read_file function\n",
    "try:\n",
    "    content = read_file(\"nonexistent.txt\")\n",
    "    print(\"File content:\", content)\n",
    "except FileReadError as e:\n",
    "    print(str(e))\n"
   ]
  },
  {
   "cell_type": "code",
   "execution_count": null,
   "id": "bac82e15-1dea-45c1-b47d-0cf4e0c0e711",
   "metadata": {},
   "outputs": [],
   "source": []
  }
 ],
 "metadata": {
  "kernelspec": {
   "display_name": "Python 3 (ipykernel)",
   "language": "python",
   "name": "python3"
  },
  "language_info": {
   "codemirror_mode": {
    "name": "ipython",
    "version": 3
   },
   "file_extension": ".py",
   "mimetype": "text/x-python",
   "name": "python",
   "nbconvert_exporter": "python",
   "pygments_lexer": "ipython3",
   "version": "3.10.8"
  }
 },
 "nbformat": 4,
 "nbformat_minor": 5
}
